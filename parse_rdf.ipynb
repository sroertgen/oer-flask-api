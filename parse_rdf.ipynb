{
 "cells": [
  {
   "cell_type": "code",
   "execution_count": 72,
   "metadata": {
    "collapsed": true,
    "jupyter": {
     "outputs_hidden": true
    }
   },
   "outputs": [
    {
     "name": "stdout",
     "output_type": "stream",
     "text": [
      "b'[\\n    {\\n        \"@id\": \"http://purl.org/dcx/lrmi-vocabs/educationalAudienceRole/administrator\",\\n        \"@type\": [\\n            \"http://www.w3.org/2004/02/skos/core#Concept\"\\n        ],\\n        \"http://www.w3.org/2004/02/skos/core#definition\": [\\n            {\\n                \"@language\": \"en-US\",\\n                \"@value\": \"A trainer or educator with administrative authority and responsibility.\"\\n            }\\n        ],\\n        \"http://www.w3.org/2004/02/skos/core#inScheme\": [\\n            {\\n                \"@id\": \"http://purl.org/dcx/lrmi-vocabs/educationalAudienceRole/\"\\n            }\\n        ],\\n        \"http://www.w3.org/2004/02/skos/core#prefLabel\": [\\n            {\\n                \"@language\": \"en-US\",\\n                \"@value\": \"administrator\"\\n            }\\n        ]\\n    },\\n    {\\n        \"@id\": \"http://purl.org/dcx/lrmi-vocabs/educationalAudienceRole/teacher\",\\n        \"@type\": [\\n            \"http://www.w3.org/2004/02/skos/core#Concept\"\\n        ],\\n        \"http://www.w3.org/2004/02/skos/core#definition\": [\\n            {\\n                \"@language\": \"en-US\",\\n                \"@value\": \"A person who has been trained to implement educational methods and practices.\"\\n            }\\n        ],\\n        \"http://www.w3.org/2004/02/skos/core#inScheme\": [\\n            {\\n                \"@id\": \"http://purl.org/dcx/lrmi-vocabs/educationalAudienceRole/\"\\n            }\\n        ],\\n        \"http://www.w3.org/2004/02/skos/core#prefLabel\": [\\n            {\\n                \"@language\": \"en-US\",\\n                \"@value\": \"teacher\"\\n            }\\n        ]\\n    },\\n    {\\n        \"@id\": \"http://purl.org/dcx/lrmi-vocabs/educationalAudienceRole/\",\\n        \"@type\": [\\n            \"http://www.w3.org/2004/02/skos/core#ConceptScheme\"\\n        ],\\n        \"http://purl.org/dc/elements/1.1/creator\": [\\n            {\\n                \"@language\": \"en-US\",\\n                \"@value\": \"LRMI Task Group (DCMI)\"\\n            }\\n        ],\\n        \"http://purl.org/dc/elements/1.1/title\": [\\n            {\\n                \"@value\": \"LRMI Educational Audience Role Vocabulary\"\\n            }\\n        ],\\n        \"http://purl.org/dc/terms/created\": [\\n            {\\n                \"@type\": \"http://www.w3.org/2001/XMLSchema#date\",\\n                \"@value\": \"2017-03-01\"\\n            }\\n        ],\\n        \"http://purl.org/dc/terms/description\": [\\n            {\\n                \"@language\": \"en-US\",\\n                \"@value\": \"A concept scheme that defines the primary or intended roles of the audience (beneficiary) of the resource being described.\"\\n            }\\n        ],\\n        \"http://purl.org/dc/terms/license\": [\\n            {\\n                \"@id\": \"http://creativecommons.org/licenses/by/4.0/\"\\n            }\\n        ],\\n        \"http://purl.org/dc/terms/modified\": [\\n            {\\n                \"@type\": \"http://www.w3.org/2001/XMLSchema#date\",\\n                \"@value\": \"2017-12-20\"\\n            }\\n        ]\\n    },\\n    {\\n        \"@id\": \"http://purl.org/dcx/lrmi-vocabs/educationalAudienceRole/mentor\",\\n        \"@type\": [\\n            \"http://www.w3.org/2004/02/skos/core#Concept\"\\n        ],\\n        \"http://www.w3.org/2004/02/skos/core#definition\": [\\n            {\\n                \"@language\": \"en-US\",\\n                \"@value\": \"Someone who advises, trains, supports, and/or guides.\"\\n            }\\n        ],\\n        \"http://www.w3.org/2004/02/skos/core#inScheme\": [\\n            {\\n                \"@id\": \"http://purl.org/dcx/lrmi-vocabs/educationalAudienceRole/\"\\n            }\\n        ],\\n        \"http://www.w3.org/2004/02/skos/core#prefLabel\": [\\n            {\\n                \"@language\": \"en-US\",\\n                \"@value\": \"mentor\"\\n            }\\n        ]\\n    },\\n    {\\n        \"@id\": \"http://purl.org/dcx/lrmi-vocabs/educationalAudienceRole/student\",\\n        \"@type\": [\\n            \"http://www.w3.org/2004/02/skos/core#Concept\"\\n        ],\\n        \"http://www.w3.org/2004/02/skos/core#definition\": [\\n            {\\n                \"@language\": \"en-US\",\\n                \"@value\": \"The learner or trainee.\"\\n            }\\n        ],\\n        \"http://www.w3.org/2004/02/skos/core#inScheme\": [\\n            {\\n                \"@id\": \"http://purl.org/dcx/lrmi-vocabs/educationalAudienceRole/\"\\n            }\\n        ],\\n        \"http://www.w3.org/2004/02/skos/core#narrower\": [\\n            {\\n                \"@id\": \"http://purl.org/dcx/lrmi-vocabs/educationalAudienceRole/peerTutor\"\\n            }\\n        ],\\n        \"http://www.w3.org/2004/02/skos/core#prefLabel\": [\\n            {\\n                \"@language\": \"en-US\",\\n                \"@value\": \"student\"\\n            }\\n        ]\\n    },\\n    {\\n        \"@id\": \"http://purl.org/dcx/lrmi-vocabs/educationalAudienceRole/parent\",\\n        \"@type\": [\\n            \"http://www.w3.org/2004/02/skos/core#Concept\"\\n        ],\\n        \"http://www.w3.org/2004/02/skos/core#definition\": [\\n            {\\n                \"@language\": \"en-US\",\\n                \"@value\": \"A father, mother, or legal guardian.\"\\n            }\\n        ],\\n        \"http://www.w3.org/2004/02/skos/core#inScheme\": [\\n            {\\n                \"@id\": \"http://purl.org/dcx/lrmi-vocabs/educationalAudienceRole/\"\\n            }\\n        ],\\n        \"http://www.w3.org/2004/02/skos/core#prefLabel\": [\\n            {\\n                \"@language\": \"en-US\",\\n                \"@value\": \"parent\"\\n            }\\n        ]\\n    },\\n    {\\n        \"@id\": \"http://purl.org/dcx/lrmi-vocabs/educationalAudienceRole/peerTutor\",\\n        \"@type\": [\\n            \"http://www.w3.org/2004/02/skos/core#Concept\"\\n        ],\\n        \"http://www.w3.org/2004/02/skos/core#broader\": [\\n            {\\n                \"@id\": \"http://purl.org/dcx/lrmi-vocabs/educationalAudienceRole/student\"\\n            }\\n        ],\\n        \"http://www.w3.org/2004/02/skos/core#definition\": [\\n            {\\n                \"@language\": \"en-US\",\\n                \"@value\": \"The peer learner serving as tutor of another learner.\"\\n            }\\n        ],\\n        \"http://www.w3.org/2004/02/skos/core#inScheme\": [\\n            {\\n                \"@id\": \"http://purl.org/dcx/lrmi-vocabs/educationalAudienceRole/\"\\n            }\\n        ],\\n        \"http://www.w3.org/2004/02/skos/core#prefLabel\": [\\n            {\\n                \"@language\": \"en-US\",\\n                \"@value\": \"peer tutor\"\\n            }\\n        ]\\n    },\\n    {\\n        \"@id\": \"http://purl.org/dcx/lrmi-vocabs/educationalAudienceRole/professional\",\\n        \"@type\": [\\n            \"http://www.w3.org/2004/02/skos/core#Concept\"\\n        ],\\n        \"http://www.w3.org/2004/02/skos/core#definition\": [\\n            {\\n                \"@language\": \"en-US\",\\n                \"@value\": \"Someone already practicing a profession; an industry partner, or professional development trainer.\"\\n            }\\n        ],\\n        \"http://www.w3.org/2004/02/skos/core#inScheme\": [\\n            {\\n                \"@id\": \"http://purl.org/dcx/lrmi-vocabs/educationalAudienceRole/\"\\n            }\\n        ],\\n        \"http://www.w3.org/2004/02/skos/core#prefLabel\": [\\n            {\\n                \"@language\": \"en-US\",\\n                \"@value\": \"professional\"\\n            }\\n        ]\\n    },\\n    {\\n        \"@id\": \"http://purl.org/dcx/lrmi-vocabs/educationalAudienceRole/generalPublic\",\\n        \"@type\": [\\n            \"http://www.w3.org/2004/02/skos/core#Concept\"\\n        ],\\n        \"http://www.w3.org/2004/02/skos/core#definition\": [\\n            {\\n                \"@language\": \"en-US\",\\n                \"@value\": \"The public at large.\"\\n            }\\n        ],\\n        \"http://www.w3.org/2004/02/skos/core#inScheme\": [\\n            {\\n                \"@id\": \"http://purl.org/dcx/lrmi-vocabs/educationalAudienceRole/\"\\n            }\\n        ],\\n        \"http://www.w3.org/2004/02/skos/core#prefLabel\": [\\n            {\\n                \"@language\": \"en-US\",\\n                \"@value\": \"general public\"\\n            }\\n        ]\\n    }\\n]'\n"
     ]
    }
   ],
   "source": [
    "import json\n",
    "import rdflib\n",
    "# Use the parse functions to point directly at the URI\n",
    "uri = 'https://www.dublincore.org/vocabs/educationalAudienceRole.ttl'\n",
    "graph = rdflib.Graph()\n",
    "g = graph.parse(uri, format=\"n3\")\n",
    "g_serialized = g.serialize(format='json-ld', indent=4)\n",
    "print(g_serialized)"
   ]
  },
  {
   "cell_type": "code",
   "execution_count": 73,
   "metadata": {},
   "outputs": [],
   "source": [
    "y = json.loads(g_serialized)"
   ]
  },
  {
   "cell_type": "code",
   "execution_count": 74,
   "metadata": {},
   "outputs": [
    {
     "name": "stdout",
     "output_type": "stream",
     "text": [
      "not there\n",
      "['administrator', 'teacher', 'mentor', 'student', 'parent', 'peer tutor', 'professional', 'general public']\n"
     ]
    }
   ],
   "source": [
    "educationalRoleOptions = []\n",
    "for item in y:\n",
    "    try:\n",
    "        label = item['http://www.w3.org/2004/02/skos/core#prefLabel'][0]['@value']\n",
    "        educationalRoleOptions.append(label)\n",
    "    except:\n",
    "        print(\"not there\")\n",
    "print(educationalRoleOptions)"
   ]
  },
  {
   "cell_type": "code",
   "execution_count": 56,
   "metadata": {
    "collapsed": true,
    "jupyter": {
     "outputs_hidden": true
    }
   },
   "outputs": [
    {
     "name": "stdout",
     "output_type": "stream",
     "text": [
      "{'@id': 'http://purl.org/dcx/lrmi-vocabs/educationalAudienceRole/administrator', '@type': ['http://www.w3.org/2004/02/skos/core#Concept'], 'http://www.w3.org/2004/02/skos/core#definition': [{'@language': 'en-US', '@value': 'A trainer or educator with administrative authority and responsibility.'}], 'http://www.w3.org/2004/02/skos/core#inScheme': [{'@id': 'http://purl.org/dcx/lrmi-vocabs/educationalAudienceRole/'}], 'http://www.w3.org/2004/02/skos/core#prefLabel': [{'@language': 'en-US', '@value': 'administrator'}]}\n",
      "{'@id': 'http://purl.org/dcx/lrmi-vocabs/educationalAudienceRole/teacher', '@type': ['http://www.w3.org/2004/02/skos/core#Concept'], 'http://www.w3.org/2004/02/skos/core#definition': [{'@language': 'en-US', '@value': 'A person who has been trained to implement educational methods and practices.'}], 'http://www.w3.org/2004/02/skos/core#inScheme': [{'@id': 'http://purl.org/dcx/lrmi-vocabs/educationalAudienceRole/'}], 'http://www.w3.org/2004/02/skos/core#prefLabel': [{'@language': 'en-US', '@value': 'teacher'}]}\n",
      "{'@id': 'http://purl.org/dcx/lrmi-vocabs/educationalAudienceRole/', '@type': ['http://www.w3.org/2004/02/skos/core#ConceptScheme'], 'http://purl.org/dc/elements/1.1/creator': [{'@language': 'en-US', '@value': 'LRMI Task Group (DCMI)'}], 'http://purl.org/dc/elements/1.1/title': [{'@value': 'LRMI Educational Audience Role Vocabulary'}], 'http://purl.org/dc/terms/created': [{'@type': 'http://www.w3.org/2001/XMLSchema#date', '@value': '2017-03-01'}], 'http://purl.org/dc/terms/description': [{'@language': 'en-US', '@value': 'A concept scheme that defines the primary or intended roles of the audience (beneficiary) of the resource being described.'}], 'http://purl.org/dc/terms/license': [{'@id': 'http://creativecommons.org/licenses/by/4.0/'}], 'http://purl.org/dc/terms/modified': [{'@type': 'http://www.w3.org/2001/XMLSchema#date', '@value': '2017-12-20'}]}\n",
      "{'@id': 'http://purl.org/dcx/lrmi-vocabs/educationalAudienceRole/student', '@type': ['http://www.w3.org/2004/02/skos/core#Concept'], 'http://www.w3.org/2004/02/skos/core#definition': [{'@language': 'en-US', '@value': 'The learner or trainee.'}], 'http://www.w3.org/2004/02/skos/core#inScheme': [{'@id': 'http://purl.org/dcx/lrmi-vocabs/educationalAudienceRole/'}], 'http://www.w3.org/2004/02/skos/core#narrower': [{'@id': 'http://purl.org/dcx/lrmi-vocabs/educationalAudienceRole/peerTutor'}], 'http://www.w3.org/2004/02/skos/core#prefLabel': [{'@language': 'en-US', '@value': 'student'}]}\n",
      "{'@id': 'http://purl.org/dcx/lrmi-vocabs/educationalAudienceRole/mentor', '@type': ['http://www.w3.org/2004/02/skos/core#Concept'], 'http://www.w3.org/2004/02/skos/core#definition': [{'@language': 'en-US', '@value': 'Someone who advises, trains, supports, and/or guides.'}], 'http://www.w3.org/2004/02/skos/core#inScheme': [{'@id': 'http://purl.org/dcx/lrmi-vocabs/educationalAudienceRole/'}], 'http://www.w3.org/2004/02/skos/core#prefLabel': [{'@language': 'en-US', '@value': 'mentor'}]}\n",
      "{'@id': 'http://purl.org/dcx/lrmi-vocabs/educationalAudienceRole/parent', '@type': ['http://www.w3.org/2004/02/skos/core#Concept'], 'http://www.w3.org/2004/02/skos/core#definition': [{'@language': 'en-US', '@value': 'A father, mother, or legal guardian.'}], 'http://www.w3.org/2004/02/skos/core#inScheme': [{'@id': 'http://purl.org/dcx/lrmi-vocabs/educationalAudienceRole/'}], 'http://www.w3.org/2004/02/skos/core#prefLabel': [{'@language': 'en-US', '@value': 'parent'}]}\n",
      "{'@id': 'http://purl.org/dcx/lrmi-vocabs/educationalAudienceRole/peerTutor', '@type': ['http://www.w3.org/2004/02/skos/core#Concept'], 'http://www.w3.org/2004/02/skos/core#broader': [{'@id': 'http://purl.org/dcx/lrmi-vocabs/educationalAudienceRole/student'}], 'http://www.w3.org/2004/02/skos/core#definition': [{'@language': 'en-US', '@value': 'The peer learner serving as tutor of another learner.'}], 'http://www.w3.org/2004/02/skos/core#inScheme': [{'@id': 'http://purl.org/dcx/lrmi-vocabs/educationalAudienceRole/'}], 'http://www.w3.org/2004/02/skos/core#prefLabel': [{'@language': 'en-US', '@value': 'peer tutor'}]}\n",
      "{'@id': 'http://purl.org/dcx/lrmi-vocabs/educationalAudienceRole/professional', '@type': ['http://www.w3.org/2004/02/skos/core#Concept'], 'http://www.w3.org/2004/02/skos/core#definition': [{'@language': 'en-US', '@value': 'Someone already practicing a profession; an industry partner, or professional development trainer.'}], 'http://www.w3.org/2004/02/skos/core#inScheme': [{'@id': 'http://purl.org/dcx/lrmi-vocabs/educationalAudienceRole/'}], 'http://www.w3.org/2004/02/skos/core#prefLabel': [{'@language': 'en-US', '@value': 'professional'}]}\n",
      "{'@id': 'http://purl.org/dcx/lrmi-vocabs/educationalAudienceRole/generalPublic', '@type': ['http://www.w3.org/2004/02/skos/core#Concept'], 'http://www.w3.org/2004/02/skos/core#definition': [{'@language': 'en-US', '@value': 'The public at large.'}], 'http://www.w3.org/2004/02/skos/core#inScheme': [{'@id': 'http://purl.org/dcx/lrmi-vocabs/educationalAudienceRole/'}], 'http://www.w3.org/2004/02/skos/core#prefLabel': [{'@language': 'en-US', '@value': 'general public'}]}\n"
     ]
    }
   ],
   "source": [
    "for item in y:\n",
    "    print(item)"
   ]
  },
  {
   "cell_type": "code",
   "execution_count": 4,
   "metadata": {},
   "outputs": [],
   "source": [
    "uris = {\n",
    "    'uri_educationalRole': 'https://www.dublincore.org/vocabs/educationalAudienceRole.ttl',\n",
    "    'uri_alignmentType': 'https://www.dublincore.org/vocabs/alignmentType.ttl',\n",
    "    'uri_educationalUse': 'https://www.dublincore.org/vocabs/educationalUse.ttl'\n",
    "}"
   ]
  },
  {
   "cell_type": "code",
   "execution_count": 6,
   "metadata": {},
   "outputs": [
    {
     "data": {
      "text/plain": [
       "'https://www.dublincore.org/vocabs/educationalAudienceRole.ttl'"
      ]
     },
     "execution_count": 6,
     "metadata": {},
     "output_type": "execute_result"
    }
   ],
   "source": [
    "uris.get('uri_educationalRole')"
   ]
  },
  {
   "cell_type": "code",
   "execution_count": null,
   "metadata": {},
   "outputs": [],
   "source": []
  }
 ],
 "metadata": {
  "kernelspec": {
   "display_name": "rdf",
   "language": "python",
   "name": "rdf"
  },
  "language_info": {
   "codemirror_mode": {
    "name": "ipython",
    "version": 3
   },
   "file_extension": ".py",
   "mimetype": "text/x-python",
   "name": "python",
   "nbconvert_exporter": "python",
   "pygments_lexer": "ipython3",
   "version": "3.7.6"
  }
 },
 "nbformat": 4,
 "nbformat_minor": 4
}

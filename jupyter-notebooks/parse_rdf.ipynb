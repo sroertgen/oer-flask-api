{
 "cells": [
  {
   "cell_type": "code",
   "execution_count": 72,
   "metadata": {
    "collapsed": true,
    "jupyter": {
     "outputs_hidden": true
    }
   },
   "outputs": [
    {
     "name": "stdout",
     "output_type": "stream",
     "text": [
      "b'[\\n    {\\n        \"@id\": \"http://purl.org/dcx/lrmi-vocabs/educationalAudienceRole/administrator\",\\n        \"@type\": [\\n            \"http://www.w3.org/2004/02/skos/core#Concept\"\\n        ],\\n        \"http://www.w3.org/2004/02/skos/core#definition\": [\\n            {\\n                \"@language\": \"en-US\",\\n                \"@value\": \"A trainer or educator with administrative authority and responsibility.\"\\n            }\\n        ],\\n        \"http://www.w3.org/2004/02/skos/core#inScheme\": [\\n            {\\n                \"@id\": \"http://purl.org/dcx/lrmi-vocabs/educationalAudienceRole/\"\\n            }\\n        ],\\n        \"http://www.w3.org/2004/02/skos/core#prefLabel\": [\\n            {\\n                \"@language\": \"en-US\",\\n                \"@value\": \"administrator\"\\n            }\\n        ]\\n    },\\n    {\\n        \"@id\": \"http://purl.org/dcx/lrmi-vocabs/educationalAudienceRole/teacher\",\\n        \"@type\": [\\n            \"http://www.w3.org/2004/02/skos/core#Concept\"\\n        ],\\n        \"http://www.w3.org/2004/02/skos/core#definition\": [\\n            {\\n                \"@language\": \"en-US\",\\n                \"@value\": \"A person who has been trained to implement educational methods and practices.\"\\n            }\\n        ],\\n        \"http://www.w3.org/2004/02/skos/core#inScheme\": [\\n            {\\n                \"@id\": \"http://purl.org/dcx/lrmi-vocabs/educationalAudienceRole/\"\\n            }\\n        ],\\n        \"http://www.w3.org/2004/02/skos/core#prefLabel\": [\\n            {\\n                \"@language\": \"en-US\",\\n                \"@value\": \"teacher\"\\n            }\\n        ]\\n    },\\n    {\\n        \"@id\": \"http://purl.org/dcx/lrmi-vocabs/educationalAudienceRole/\",\\n        \"@type\": [\\n            \"http://www.w3.org/2004/02/skos/core#ConceptScheme\"\\n        ],\\n        \"http://purl.org/dc/elements/1.1/creator\": [\\n            {\\n                \"@language\": \"en-US\",\\n                \"@value\": \"LRMI Task Group (DCMI)\"\\n            }\\n        ],\\n        \"http://purl.org/dc/elements/1.1/title\": [\\n            {\\n                \"@value\": \"LRMI Educational Audience Role Vocabulary\"\\n            }\\n        ],\\n        \"http://purl.org/dc/terms/created\": [\\n            {\\n                \"@type\": \"http://www.w3.org/2001/XMLSchema#date\",\\n                \"@value\": \"2017-03-01\"\\n            }\\n        ],\\n        \"http://purl.org/dc/terms/description\": [\\n            {\\n                \"@language\": \"en-US\",\\n                \"@value\": \"A concept scheme that defines the primary or intended roles of the audience (beneficiary) of the resource being described.\"\\n            }\\n        ],\\n        \"http://purl.org/dc/terms/license\": [\\n            {\\n                \"@id\": \"http://creativecommons.org/licenses/by/4.0/\"\\n            }\\n        ],\\n        \"http://purl.org/dc/terms/modified\": [\\n            {\\n                \"@type\": \"http://www.w3.org/2001/XMLSchema#date\",\\n                \"@value\": \"2017-12-20\"\\n            }\\n        ]\\n    },\\n    {\\n        \"@id\": \"http://purl.org/dcx/lrmi-vocabs/educationalAudienceRole/mentor\",\\n        \"@type\": [\\n            \"http://www.w3.org/2004/02/skos/core#Concept\"\\n        ],\\n        \"http://www.w3.org/2004/02/skos/core#definition\": [\\n            {\\n                \"@language\": \"en-US\",\\n                \"@value\": \"Someone who advises, trains, supports, and/or guides.\"\\n            }\\n        ],\\n        \"http://www.w3.org/2004/02/skos/core#inScheme\": [\\n            {\\n                \"@id\": \"http://purl.org/dcx/lrmi-vocabs/educationalAudienceRole/\"\\n            }\\n        ],\\n        \"http://www.w3.org/2004/02/skos/core#prefLabel\": [\\n            {\\n                \"@language\": \"en-US\",\\n                \"@value\": \"mentor\"\\n            }\\n        ]\\n    },\\n    {\\n        \"@id\": \"http://purl.org/dcx/lrmi-vocabs/educationalAudienceRole/student\",\\n        \"@type\": [\\n            \"http://www.w3.org/2004/02/skos/core#Concept\"\\n        ],\\n        \"http://www.w3.org/2004/02/skos/core#definition\": [\\n            {\\n                \"@language\": \"en-US\",\\n                \"@value\": \"The learner or trainee.\"\\n            }\\n        ],\\n        \"http://www.w3.org/2004/02/skos/core#inScheme\": [\\n            {\\n                \"@id\": \"http://purl.org/dcx/lrmi-vocabs/educationalAudienceRole/\"\\n            }\\n        ],\\n        \"http://www.w3.org/2004/02/skos/core#narrower\": [\\n            {\\n                \"@id\": \"http://purl.org/dcx/lrmi-vocabs/educationalAudienceRole/peerTutor\"\\n            }\\n        ],\\n        \"http://www.w3.org/2004/02/skos/core#prefLabel\": [\\n            {\\n                \"@language\": \"en-US\",\\n                \"@value\": \"student\"\\n            }\\n        ]\\n    },\\n    {\\n        \"@id\": \"http://purl.org/dcx/lrmi-vocabs/educationalAudienceRole/parent\",\\n        \"@type\": [\\n            \"http://www.w3.org/2004/02/skos/core#Concept\"\\n        ],\\n        \"http://www.w3.org/2004/02/skos/core#definition\": [\\n            {\\n                \"@language\": \"en-US\",\\n                \"@value\": \"A father, mother, or legal guardian.\"\\n            }\\n        ],\\n        \"http://www.w3.org/2004/02/skos/core#inScheme\": [\\n            {\\n                \"@id\": \"http://purl.org/dcx/lrmi-vocabs/educationalAudienceRole/\"\\n            }\\n        ],\\n        \"http://www.w3.org/2004/02/skos/core#prefLabel\": [\\n            {\\n                \"@language\": \"en-US\",\\n                \"@value\": \"parent\"\\n            }\\n        ]\\n    },\\n    {\\n        \"@id\": \"http://purl.org/dcx/lrmi-vocabs/educationalAudienceRole/peerTutor\",\\n        \"@type\": [\\n            \"http://www.w3.org/2004/02/skos/core#Concept\"\\n        ],\\n        \"http://www.w3.org/2004/02/skos/core#broader\": [\\n            {\\n                \"@id\": \"http://purl.org/dcx/lrmi-vocabs/educationalAudienceRole/student\"\\n            }\\n        ],\\n        \"http://www.w3.org/2004/02/skos/core#definition\": [\\n            {\\n                \"@language\": \"en-US\",\\n                \"@value\": \"The peer learner serving as tutor of another learner.\"\\n            }\\n        ],\\n        \"http://www.w3.org/2004/02/skos/core#inScheme\": [\\n            {\\n                \"@id\": \"http://purl.org/dcx/lrmi-vocabs/educationalAudienceRole/\"\\n            }\\n        ],\\n        \"http://www.w3.org/2004/02/skos/core#prefLabel\": [\\n            {\\n                \"@language\": \"en-US\",\\n                \"@value\": \"peer tutor\"\\n            }\\n        ]\\n    },\\n    {\\n        \"@id\": \"http://purl.org/dcx/lrmi-vocabs/educationalAudienceRole/professional\",\\n        \"@type\": [\\n            \"http://www.w3.org/2004/02/skos/core#Concept\"\\n        ],\\n        \"http://www.w3.org/2004/02/skos/core#definition\": [\\n            {\\n                \"@language\": \"en-US\",\\n                \"@value\": \"Someone already practicing a profession; an industry partner, or professional development trainer.\"\\n            }\\n        ],\\n        \"http://www.w3.org/2004/02/skos/core#inScheme\": [\\n            {\\n                \"@id\": \"http://purl.org/dcx/lrmi-vocabs/educationalAudienceRole/\"\\n            }\\n        ],\\n        \"http://www.w3.org/2004/02/skos/core#prefLabel\": [\\n            {\\n                \"@language\": \"en-US\",\\n                \"@value\": \"professional\"\\n            }\\n        ]\\n    },\\n    {\\n        \"@id\": \"http://purl.org/dcx/lrmi-vocabs/educationalAudienceRole/generalPublic\",\\n        \"@type\": [\\n            \"http://www.w3.org/2004/02/skos/core#Concept\"\\n        ],\\n        \"http://www.w3.org/2004/02/skos/core#definition\": [\\n            {\\n                \"@language\": \"en-US\",\\n                \"@value\": \"The public at large.\"\\n            }\\n        ],\\n        \"http://www.w3.org/2004/02/skos/core#inScheme\": [\\n            {\\n                \"@id\": \"http://purl.org/dcx/lrmi-vocabs/educationalAudienceRole/\"\\n            }\\n        ],\\n        \"http://www.w3.org/2004/02/skos/core#prefLabel\": [\\n            {\\n                \"@language\": \"en-US\",\\n                \"@value\": \"general public\"\\n            }\\n        ]\\n    }\\n]'\n"
     ]
    }
   ],
   "source": [
    "import json\n",
    "import rdflib\n",
    "# Use the parse functions to point directly at the URI\n",
    "uri = 'https://www.dublincore.org/vocabs/educationalAudienceRole.ttl'\n",
    "graph = rdflib.Graph()\n",
    "g = graph.parse(uri, format=\"n3\")\n",
    "g_serialized = g.serialize(format='json-ld', indent=4)\n",
    "print(g_serialized)"
   ]
  },
  {
   "cell_type": "code",
   "execution_count": 73,
   "metadata": {},
   "outputs": [],
   "source": [
    "y = json.loads(g_serialized)"
   ]
  },
  {
   "cell_type": "code",
   "execution_count": 74,
   "metadata": {},
   "outputs": [
    {
     "name": "stdout",
     "output_type": "stream",
     "text": [
      "not there\n",
      "['administrator', 'teacher', 'mentor', 'student', 'parent', 'peer tutor', 'professional', 'general public']\n"
     ]
    }
   ],
   "source": [
    "educationalRoleOptions = []\n",
    "for item in y:\n",
    "    try:\n",
    "        label = item['http://www.w3.org/2004/02/skos/core#prefLabel'][0]['@value']\n",
    "        educationalRoleOptions.append(label)\n",
    "    except:\n",
    "        print(\"not there\")\n",
    "print(educationalRoleOptions)"
   ]
  },
  {
   "cell_type": "code",
   "execution_count": 56,
   "metadata": {
    "collapsed": true,
    "jupyter": {
     "outputs_hidden": true
    }
   },
   "outputs": [
    {
     "name": "stdout",
     "output_type": "stream",
     "text": [
      "{'@id': 'http://purl.org/dcx/lrmi-vocabs/educationalAudienceRole/administrator', '@type': ['http://www.w3.org/2004/02/skos/core#Concept'], 'http://www.w3.org/2004/02/skos/core#definition': [{'@language': 'en-US', '@value': 'A trainer or educator with administrative authority and responsibility.'}], 'http://www.w3.org/2004/02/skos/core#inScheme': [{'@id': 'http://purl.org/dcx/lrmi-vocabs/educationalAudienceRole/'}], 'http://www.w3.org/2004/02/skos/core#prefLabel': [{'@language': 'en-US', '@value': 'administrator'}]}\n",
      "{'@id': 'http://purl.org/dcx/lrmi-vocabs/educationalAudienceRole/teacher', '@type': ['http://www.w3.org/2004/02/skos/core#Concept'], 'http://www.w3.org/2004/02/skos/core#definition': [{'@language': 'en-US', '@value': 'A person who has been trained to implement educational methods and practices.'}], 'http://www.w3.org/2004/02/skos/core#inScheme': [{'@id': 'http://purl.org/dcx/lrmi-vocabs/educationalAudienceRole/'}], 'http://www.w3.org/2004/02/skos/core#prefLabel': [{'@language': 'en-US', '@value': 'teacher'}]}\n",
      "{'@id': 'http://purl.org/dcx/lrmi-vocabs/educationalAudienceRole/', '@type': ['http://www.w3.org/2004/02/skos/core#ConceptScheme'], 'http://purl.org/dc/elements/1.1/creator': [{'@language': 'en-US', '@value': 'LRMI Task Group (DCMI)'}], 'http://purl.org/dc/elements/1.1/title': [{'@value': 'LRMI Educational Audience Role Vocabulary'}], 'http://purl.org/dc/terms/created': [{'@type': 'http://www.w3.org/2001/XMLSchema#date', '@value': '2017-03-01'}], 'http://purl.org/dc/terms/description': [{'@language': 'en-US', '@value': 'A concept scheme that defines the primary or intended roles of the audience (beneficiary) of the resource being described.'}], 'http://purl.org/dc/terms/license': [{'@id': 'http://creativecommons.org/licenses/by/4.0/'}], 'http://purl.org/dc/terms/modified': [{'@type': 'http://www.w3.org/2001/XMLSchema#date', '@value': '2017-12-20'}]}\n",
      "{'@id': 'http://purl.org/dcx/lrmi-vocabs/educationalAudienceRole/student', '@type': ['http://www.w3.org/2004/02/skos/core#Concept'], 'http://www.w3.org/2004/02/skos/core#definition': [{'@language': 'en-US', '@value': 'The learner or trainee.'}], 'http://www.w3.org/2004/02/skos/core#inScheme': [{'@id': 'http://purl.org/dcx/lrmi-vocabs/educationalAudienceRole/'}], 'http://www.w3.org/2004/02/skos/core#narrower': [{'@id': 'http://purl.org/dcx/lrmi-vocabs/educationalAudienceRole/peerTutor'}], 'http://www.w3.org/2004/02/skos/core#prefLabel': [{'@language': 'en-US', '@value': 'student'}]}\n",
      "{'@id': 'http://purl.org/dcx/lrmi-vocabs/educationalAudienceRole/mentor', '@type': ['http://www.w3.org/2004/02/skos/core#Concept'], 'http://www.w3.org/2004/02/skos/core#definition': [{'@language': 'en-US', '@value': 'Someone who advises, trains, supports, and/or guides.'}], 'http://www.w3.org/2004/02/skos/core#inScheme': [{'@id': 'http://purl.org/dcx/lrmi-vocabs/educationalAudienceRole/'}], 'http://www.w3.org/2004/02/skos/core#prefLabel': [{'@language': 'en-US', '@value': 'mentor'}]}\n",
      "{'@id': 'http://purl.org/dcx/lrmi-vocabs/educationalAudienceRole/parent', '@type': ['http://www.w3.org/2004/02/skos/core#Concept'], 'http://www.w3.org/2004/02/skos/core#definition': [{'@language': 'en-US', '@value': 'A father, mother, or legal guardian.'}], 'http://www.w3.org/2004/02/skos/core#inScheme': [{'@id': 'http://purl.org/dcx/lrmi-vocabs/educationalAudienceRole/'}], 'http://www.w3.org/2004/02/skos/core#prefLabel': [{'@language': 'en-US', '@value': 'parent'}]}\n",
      "{'@id': 'http://purl.org/dcx/lrmi-vocabs/educationalAudienceRole/peerTutor', '@type': ['http://www.w3.org/2004/02/skos/core#Concept'], 'http://www.w3.org/2004/02/skos/core#broader': [{'@id': 'http://purl.org/dcx/lrmi-vocabs/educationalAudienceRole/student'}], 'http://www.w3.org/2004/02/skos/core#definition': [{'@language': 'en-US', '@value': 'The peer learner serving as tutor of another learner.'}], 'http://www.w3.org/2004/02/skos/core#inScheme': [{'@id': 'http://purl.org/dcx/lrmi-vocabs/educationalAudienceRole/'}], 'http://www.w3.org/2004/02/skos/core#prefLabel': [{'@language': 'en-US', '@value': 'peer tutor'}]}\n",
      "{'@id': 'http://purl.org/dcx/lrmi-vocabs/educationalAudienceRole/professional', '@type': ['http://www.w3.org/2004/02/skos/core#Concept'], 'http://www.w3.org/2004/02/skos/core#definition': [{'@language': 'en-US', '@value': 'Someone already practicing a profession; an industry partner, or professional development trainer.'}], 'http://www.w3.org/2004/02/skos/core#inScheme': [{'@id': 'http://purl.org/dcx/lrmi-vocabs/educationalAudienceRole/'}], 'http://www.w3.org/2004/02/skos/core#prefLabel': [{'@language': 'en-US', '@value': 'professional'}]}\n",
      "{'@id': 'http://purl.org/dcx/lrmi-vocabs/educationalAudienceRole/generalPublic', '@type': ['http://www.w3.org/2004/02/skos/core#Concept'], 'http://www.w3.org/2004/02/skos/core#definition': [{'@language': 'en-US', '@value': 'The public at large.'}], 'http://www.w3.org/2004/02/skos/core#inScheme': [{'@id': 'http://purl.org/dcx/lrmi-vocabs/educationalAudienceRole/'}], 'http://www.w3.org/2004/02/skos/core#prefLabel': [{'@language': 'en-US', '@value': 'general public'}]}\n"
     ]
    }
   ],
   "source": [
    "for item in y:\n",
    "    print(item)"
   ]
  },
  {
   "cell_type": "code",
   "execution_count": 4,
   "metadata": {},
   "outputs": [],
   "source": [
    "uris = {\n",
    "    'uri_educationalRole': 'https://www.dublincore.org/vocabs/educationalAudienceRole.ttl',\n",
    "    'uri_alignmentType': 'https://www.dublincore.org/vocabs/alignmentType.ttl',\n",
    "    'uri_educationalUse': 'https://www.dublincore.org/vocabs/educationalUse.ttl'\n",
    "}"
   ]
  },
  {
   "cell_type": "code",
   "execution_count": 6,
   "metadata": {},
   "outputs": [
    {
     "data": {
      "text/plain": [
       "'https://www.dublincore.org/vocabs/educationalAudienceRole.ttl'"
      ]
     },
     "execution_count": 6,
     "metadata": {},
     "output_type": "execute_result"
    }
   ],
   "source": [
    "uris.get('uri_educationalRole')"
   ]
  },
  {
   "cell_type": "code",
   "execution_count": null,
   "metadata": {},
   "outputs": [],
   "source": [
    "https://raw.githubusercontent.com/dini-ag-kim/hcrt/master/hcrt.ttl"
   ]
  },
  {
   "cell_type": "code",
   "execution_count": 3,
   "metadata": {},
   "outputs": [
    {
     "output_type": "stream",
     "name": "stdout",
     "text": "[{'@id': 'https://w3id.org/kim/hcrt/lesson_plan',\n  '@type': ['http://www.w3.org/2004/02/skos/core#Concept'],\n  'http://www.w3.org/2004/02/skos/core#prefLabel': [{'@language': 'de',\n                                                     '@value': 'Unterrichtsplanung'}],\n  'http://www.w3.org/2004/02/skos/core#topConceptOf': [{'@id': 'https://w3id.org/kim/hcrt/scheme'}]},\n {'@id': 'https://w3id.org/kim/hcrt/course',\n  '@type': ['http://www.w3.org/2004/02/skos/core#Concept'],\n  'http://www.w3.org/2004/02/skos/core#prefLabel': [{'@language': 'de',\n                                                     '@value': 'Lernkurs'}],\n  'http://www.w3.org/2004/02/skos/core#topConceptOf': [{'@id': 'https://w3id.org/kim/hcrt/scheme'}]},\n {'@id': 'https://w3id.org/kim/hcrt/index',\n  '@type': ['http://www.w3.org/2004/02/skos/core#Concept'],\n  'http://www.w3.org/2004/02/skos/core#prefLabel': [{'@language': 'de',\n                                                     '@value': 'Nachschlagewerk'}],\n  'http://www.w3.org/2004/02/skos/core#scopeNote': [{'@language': 'de',\n                                                     '@value': 'zum Beispiel '\n                                                               'Glossar, '\n                                                               'Enzyklopädie, '\n                                                               'Lexikon'}],\n  'http://www.w3.org/2004/02/skos/core#topConceptOf': [{'@id': 'https://w3id.org/kim/hcrt/scheme'}]},\n {'@id': 'https://w3id.org/kim/hcrt/diagram',\n  '@type': ['http://www.w3.org/2004/02/skos/core#Concept'],\n  'http://www.w3.org/2004/02/skos/core#altLabel': [{'@language': 'de',\n                                                    '@value': 'Grafik'}],\n  'http://www.w3.org/2004/02/skos/core#prefLabel': [{'@language': 'de',\n                                                     '@value': 'Diagramm'}],\n  'http://www.w3.org/2004/02/skos/core#topConceptOf': [{'@id': 'https://w3id.org/kim/hcrt/scheme'}]},\n {'@id': 'https://w3id.org/kim/hcrt/script',\n  '@type': ['http://www.w3.org/2004/02/skos/core#Concept'],\n  'http://www.w3.org/2004/02/skos/core#prefLabel': [{'@language': 'de',\n                                                     '@value': 'Skript'}],\n  'http://www.w3.org/2004/02/skos/core#scopeNote': [{'@language': 'de',\n                                                     '@value': 'zum Beispiel '\n                                                               'Vorlesungsskript'}],\n  'http://www.w3.org/2004/02/skos/core#topConceptOf': [{'@id': 'https://w3id.org/kim/hcrt/scheme'}]},\n {'@id': 'https://w3id.org/kim/hcrt/application',\n  '@type': ['http://www.w3.org/2004/02/skos/core#Concept'],\n  'http://www.w3.org/2004/02/skos/core#prefLabel': [{'@language': 'de',\n                                                     '@value': 'Softwareanwendung'}],\n  'http://www.w3.org/2004/02/skos/core#topConceptOf': [{'@id': 'https://w3id.org/kim/hcrt/scheme'}]},\n {'@id': 'https://w3id.org/kim/hcrt/slide',\n  '@type': ['http://www.w3.org/2004/02/skos/core#Concept'],\n  'http://www.w3.org/2004/02/skos/core#prefLabel': [{'@language': 'de',\n                                                     '@value': 'Präsentationsfolien'}],\n  'http://www.w3.org/2004/02/skos/core#topConceptOf': [{'@id': 'https://w3id.org/kim/hcrt/scheme'}]},\n {'@id': 'https://w3id.org/kim/hcrt/other',\n  '@type': ['http://www.w3.org/2004/02/skos/core#Concept'],\n  'http://www.w3.org/2004/02/skos/core#prefLabel': [{'@language': 'de',\n                                                     '@value': 'Sonstiges'}],\n  'http://www.w3.org/2004/02/skos/core#topConceptOf': [{'@id': 'https://w3id.org/kim/hcrt/scheme'}]},\n {'@id': 'https://w3id.org/kim/hcrt/text',\n  '@type': ['http://www.w3.org/2004/02/skos/core#Concept'],\n  'http://www.w3.org/2004/02/skos/core#prefLabel': [{'@language': 'de',\n                                                     '@value': 'Textdokument'}],\n  'http://www.w3.org/2004/02/skos/core#scopeNote': [{'@language': 'de',\n                                                     '@value': 'zum Beispiel '\n                                                               'Artikel, '\n                                                               'Aufsatz, '\n                                                               'Abhandlung'}],\n  'http://www.w3.org/2004/02/skos/core#topConceptOf': [{'@id': 'https://w3id.org/kim/hcrt/scheme'}]},\n {'@id': 'https://w3id.org/kim/hcrt/map',\n  '@type': ['http://www.w3.org/2004/02/skos/core#Concept'],\n  'http://www.w3.org/2004/02/skos/core#prefLabel': [{'@language': 'de',\n                                                     '@value': 'Karte'}],\n  'http://www.w3.org/2004/02/skos/core#topConceptOf': [{'@id': 'https://w3id.org/kim/hcrt/scheme'}]},\n {'@id': 'https://w3id.org/kim/hcrt/questionnaire',\n  '@type': ['http://www.w3.org/2004/02/skos/core#Concept'],\n  'http://www.w3.org/2004/02/skos/core#prefLabel': [{'@language': 'de',\n                                                     '@value': 'Fragebogen'}],\n  'http://www.w3.org/2004/02/skos/core#scopeNote': [{'@language': 'de',\n                                                     '@value': 'auch '\n                                                               'Rechercheaufträge'}],\n  'http://www.w3.org/2004/02/skos/core#topConceptOf': [{'@id': 'https://w3id.org/kim/hcrt/scheme'}]},\n {'@id': 'https://w3id.org/kim/hcrt/web_page',\n  '@type': ['http://www.w3.org/2004/02/skos/core#Concept'],\n  'http://www.w3.org/2004/02/skos/core#prefLabel': [{'@language': 'de',\n                                                     '@value': 'Webseite'}],\n  'http://www.w3.org/2004/02/skos/core#topConceptOf': [{'@id': 'https://w3id.org/kim/hcrt/scheme'}]},\n {'@id': 'https://w3id.org/kim/hcrt/video',\n  '@type': ['http://www.w3.org/2004/02/skos/core#Concept'],\n  'http://www.w3.org/2004/02/skos/core#prefLabel': [{'@language': 'de',\n                                                     '@value': 'Video'}],\n  'http://www.w3.org/2004/02/skos/core#topConceptOf': [{'@id': 'https://w3id.org/kim/hcrt/scheme'}]},\n {'@id': 'https://w3id.org/kim/hcrt/experiment',\n  '@type': ['http://www.w3.org/2004/02/skos/core#Concept'],\n  'http://www.w3.org/2004/02/skos/core#prefLabel': [{'@language': 'de',\n                                                     '@value': 'Experiment'}],\n  'http://www.w3.org/2004/02/skos/core#topConceptOf': [{'@id': 'https://w3id.org/kim/hcrt/scheme'}]},\n {'@id': 'https://w3id.org/kim/hcrt/simulation',\n  '@type': ['http://www.w3.org/2004/02/skos/core#Concept'],\n  'http://www.w3.org/2004/02/skos/core#prefLabel': [{'@language': 'de',\n                                                     '@value': 'Simulation'}],\n  'http://www.w3.org/2004/02/skos/core#topConceptOf': [{'@id': 'https://w3id.org/kim/hcrt/scheme'}]},\n {'@id': 'https://w3id.org/kim/hcrt/case_study',\n  '@type': ['http://www.w3.org/2004/02/skos/core#Concept'],\n  'http://www.w3.org/2004/02/skos/core#prefLabel': [{'@language': 'de',\n                                                     '@value': 'Fallstudie'}],\n  'http://www.w3.org/2004/02/skos/core#topConceptOf': [{'@id': 'https://w3id.org/kim/hcrt/scheme'}]},\n {'@id': 'https://w3id.org/kim/hcrt/portal',\n  '@type': ['http://www.w3.org/2004/02/skos/core#Concept'],\n  'http://www.w3.org/2004/02/skos/core#prefLabel': [{'@language': 'de',\n                                                     '@value': 'Webportal'}],\n  'http://www.w3.org/2004/02/skos/core#topConceptOf': [{'@id': 'https://w3id.org/kim/hcrt/scheme'}]},\n {'@id': 'https://w3id.org/kim/hcrt/audio',\n  '@type': ['http://www.w3.org/2004/02/skos/core#Concept'],\n  'http://www.w3.org/2004/02/skos/core#prefLabel': [{'@language': 'de',\n                                                     '@value': 'Tonaufnahme'}],\n  'http://www.w3.org/2004/02/skos/core#topConceptOf': [{'@id': 'https://w3id.org/kim/hcrt/scheme'}]},\n {'@id': 'https://w3id.org/kim/hcrt/worksheet',\n  '@type': ['http://www.w3.org/2004/02/skos/core#Concept'],\n  'http://www.w3.org/2004/02/skos/core#prefLabel': [{'@language': 'de',\n                                                     '@value': 'Arbeitsmaterial'}],\n  'http://www.w3.org/2004/02/skos/core#scopeNote': [{'@language': 'de',\n                                                     '@value': 'zum Beispiel '\n                                                               'Arbeitsblatt'}],\n  'http://www.w3.org/2004/02/skos/core#topConceptOf': [{'@id': 'https://w3id.org/kim/hcrt/scheme'}]},\n {'@id': 'https://w3id.org/kim/hcrt/image',\n  '@type': ['http://www.w3.org/2004/02/skos/core#Concept'],\n  'http://www.w3.org/2004/02/skos/core#prefLabel': [{'@language': 'de',\n                                                     '@value': 'Abbildung'}],\n  'http://www.w3.org/2004/02/skos/core#scopeNote': [{'@language': 'de',\n                                                     '@value': 'Fotos und '\n                                                               'sonstige '\n                                                               'Bilder'}],\n  'http://www.w3.org/2004/02/skos/core#topConceptOf': [{'@id': 'https://w3id.org/kim/hcrt/scheme'}]},\n {'@id': 'https://w3id.org/kim/hcrt/scheme',\n  '@type': ['http://www.w3.org/2004/02/skos/core#ConceptScheme'],\n  'http://purl.org/dc/terms/description': [{'@language': 'de',\n                                            '@value': 'Eine Wertelliste für '\n                                                      'Typen von '\n                                                      'Lernressourcen '\n                                                      '(Learning Resource '\n                                                      'Type), entstanden im '\n                                                      'Kontext des '\n                                                      'Metadatenschemas \"LOM '\n                                                      'for Higher Education '\n                                                      'OER Repositories\" '\n                                                      '(https://w3id.org/dini-ag-kim/hs-oer-lom-profil/latest/).'}],\n  'http://purl.org/dc/terms/issued': [{'@value': '2020-02-07'}],\n  'http://purl.org/dc/terms/license': [{'@id': 'http://creativecommons.org/publicdomain/zero/1.0/'}],\n  'http://purl.org/dc/terms/publisher': [{'@id': 'https://oerworldmap.org/resource/urn:uuid:fd06253e-fe67-4910-b923-51db9d27e59f'}],\n  'http://purl.org/dc/terms/title': [{'@language': 'en',\n                                      '@value': 'Hochschulcampus '\n                                                'Ressourcentypen'}],\n  'http://purl.org/vocab/vann/preferredNamespacePrefix': [{'@value': 'hcrt'}],\n  'http://purl.org/vocab/vann/preferredNamespaceUri': [{'@value': 'https://w3id.org/kim/hcrt/'}],\n  'http://www.w3.org/2004/02/skos/core#hasTopConcept': [{'@id': 'https://w3id.org/kim/hcrt/web_page'},\n                                                        {'@id': 'https://w3id.org/kim/hcrt/drill_and_practice'},\n                                                        {'@id': 'https://w3id.org/kim/hcrt/image'},\n                                                        {'@id': 'https://w3id.org/kim/hcrt/data'},\n                                                        {'@id': 'https://w3id.org/kim/hcrt/other'},\n                                                        {'@id': 'https://w3id.org/kim/hcrt/slide'},\n                                                        {'@id': 'https://w3id.org/kim/hcrt/index'},\n                                                        {'@id': 'https://w3id.org/kim/hcrt/lesson_plan'},\n                                                        {'@id': 'https://w3id.org/kim/hcrt/video'},\n                                                        {'@id': 'https://w3id.org/kim/hcrt/application'},\n                                                        {'@id': 'https://w3id.org/kim/hcrt/script'},\n                                                        {'@id': 'https://w3id.org/kim/hcrt/audio'},\n                                                        {'@id': 'https://w3id.org/kim/hcrt/case_study'},\n                                                        {'@id': 'https://w3id.org/kim/hcrt/worksheet'},\n                                                        {'@id': 'https://w3id.org/kim/hcrt/simulation'},\n                                                        {'@id': 'https://w3id.org/kim/hcrt/map'},\n                                                        {'@id': 'https://w3id.org/kim/hcrt/educational_game'},\n                                                        {'@id': 'https://w3id.org/kim/hcrt/assessment'},\n                                                        {'@id': 'https://w3id.org/kim/hcrt/experiment'},\n                                                        {'@id': 'https://w3id.org/kim/hcrt/course'},\n                                                        {'@id': 'https://w3id.org/kim/hcrt/text'},\n                                                        {'@id': 'https://w3id.org/kim/hcrt/diagram'},\n                                                        {'@id': 'https://w3id.org/kim/hcrt/questionnaire'},\n                                                        {'@id': 'https://w3id.org/kim/hcrt/portal'}]},\n {'@id': 'https://w3id.org/kim/hcrt/drill_and_practice',\n  '@type': ['http://www.w3.org/2004/02/skos/core#Concept'],\n  'http://www.w3.org/2004/02/skos/core#prefLabel': [{'@language': 'de',\n                                                     '@value': 'Übung'}],\n  'http://www.w3.org/2004/02/skos/core#topConceptOf': [{'@id': 'https://w3id.org/kim/hcrt/scheme'}]},\n {'@id': 'https://w3id.org/kim/hcrt/assessment',\n  '@type': ['http://www.w3.org/2004/02/skos/core#Concept'],\n  'http://www.w3.org/2004/02/skos/core#prefLabel': [{'@language': 'de',\n                                                     '@value': 'Lernkontrolle'}],\n  'http://www.w3.org/2004/02/skos/core#scopeNote': [{'@language': 'de',\n                                                     '@value': 'unter anderem '\n                                                               '(Selbst-)Tests'}],\n  'http://www.w3.org/2004/02/skos/core#topConceptOf': [{'@id': 'https://w3id.org/kim/hcrt/scheme'}]},\n {'@id': 'https://w3id.org/kim/hcrt/data',\n  '@type': ['http://www.w3.org/2004/02/skos/core#Concept'],\n  'http://www.w3.org/2004/02/skos/core#prefLabel': [{'@language': 'de',\n                                                     '@value': 'Daten'}],\n  'http://www.w3.org/2004/02/skos/core#scopeNote': [{'@language': 'de',\n                                                     '@value': 'unter anderem '\n                                                               'Roh- oder '\n                                                               'Beispieldaten'}],\n  'http://www.w3.org/2004/02/skos/core#topConceptOf': [{'@id': 'https://w3id.org/kim/hcrt/scheme'}]},\n {'@id': 'https://w3id.org/kim/hcrt/educational_game',\n  '@type': ['http://www.w3.org/2004/02/skos/core#Concept'],\n  'http://www.w3.org/2004/02/skos/core#prefLabel': [{'@language': 'de',\n                                                     '@value': 'Lernspiel'}],\n  'http://www.w3.org/2004/02/skos/core#topConceptOf': [{'@id': 'https://w3id.org/kim/hcrt/scheme'}]}]\n"
    }
   ],
   "source": [
    "import json\n",
    "import rdflib\n",
    "import pprint\n",
    "# Use the parse functions to point directly at the URI\n",
    "uri = 'https://raw.githubusercontent.com/dini-ag-kim/hcrt/master/hcrt.ttl'\n",
    "graph = rdflib.Graph()\n",
    "g = graph.parse(uri, format=\"n3\")\n",
    "g_serialized = g.serialize(format='json-ld', indent=4)\n",
    "y = json.loads(g_serialized)\n",
    "pprint.pprint(y)"
   ]
  },
  {
   "cell_type": "code",
   "execution_count": null,
   "metadata": {},
   "outputs": [],
   "source": []
  }
 ],
 "metadata": {
  "kernelspec": {
   "display_name": "rdf",
   "language": "python",
   "name": "rdf"
  },
  "language_info": {
   "codemirror_mode": {
    "name": "ipython",
    "version": 3
   },
   "file_extension": ".py",
   "mimetype": "text/x-python",
   "name": "python",
   "nbconvert_exporter": "python",
   "pygments_lexer": "ipython3",
   "version": "3.7.6-final"
  }
 },
 "nbformat": 4,
 "nbformat_minor": 4
}
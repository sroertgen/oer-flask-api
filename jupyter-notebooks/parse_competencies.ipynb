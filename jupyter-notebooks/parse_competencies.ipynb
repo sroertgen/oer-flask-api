{
 "cells": [
  {
   "cell_type": "markdown",
   "metadata": {},
   "source": [
    "# Prepare nice json competenframeworksfor Flask app"
   ]
  },
  {
   "cell_type": "code",
   "execution_count": 2,
   "metadata": {},
   "outputs": [],
   "source": [
    "import json\n",
    "import requests\n",
    "import pprint\n",
    "\n",
    "base_url = 'http://141.5.108.59:3000/ims/case/v1p0'"
   ]
  },
  {
   "cell_type": "code",
   "execution_count": 3,
   "metadata": {},
   "outputs": [
    {
     "output_type": "execute_result",
     "data": {
      "text/plain": "['1e2537a8-3b92-11ea-800f-0242ac1a0003',\n '05a9d6f8-3b96-11ea-bc94-0242ac1a0003']"
     },
     "metadata": {},
     "execution_count": 3
    }
   ],
   "source": [
    "r = requests.get(base_url + '/CFDocuments')\n",
    "\n",
    "list_of_documents = []\n",
    "\n",
    "for item in r.json()['CFDocuments']:\n",
    "   list_of_documents.append(item['identifier'])  \n",
    "\n",
    "list_of_documents"
   ]
  },
  {
   "cell_type": "markdown",
   "metadata": {},
   "source": [
    "## Get JSON for each document"
   ]
  },
  {
   "cell_type": "code",
   "execution_count": 13,
   "metadata": {},
   "outputs": [
    {
     "output_type": "stream",
     "name": "stdout",
     "text": "1e2537a8-3b92-11ea-800f-0242ac1a0003\n{'uri': 'http://141.5.108.59:3000/uri/1e2537a8-3b92-11ea-800f-0242ac1a0003', 'identifier': '1e2537a8-3b92-11ea-800f-0242ac1a0003', 'lastChangeDateTime': '2020-01-20T14:35:34+00:00', 'CFPackageURI': {'title': 'Bildungsstandards im Fach Deutsch für den Primarbereich', 'identifier': '1e2537a8-3b92-11ea-800f-0242ac1a0003', 'uri': 'http://141.5.108.59:3000/uri/p1e2537a8-3b92-11ea-800f-0242ac1a0003'}, 'creator': 'Kultusministerkonferenz', 'title': 'Bildungsstandards im Fach Deutsch für den Primarbereich', 'language': 'de'}\nKultusministerkonferenz\n05a9d6f8-3b96-11ea-bc94-0242ac1a0003\n{'uri': 'http://141.5.108.59:3000/uri/05a9d6f8-3b96-11ea-bc94-0242ac1a0003', 'identifier': '05a9d6f8-3b96-11ea-bc94-0242ac1a0003', 'lastChangeDateTime': '2020-01-20T15:19:09+00:00', 'CFPackageURI': {'title': 'Teilrahmenplan Deutsch', 'identifier': '05a9d6f8-3b96-11ea-bc94-0242ac1a0003', 'uri': 'http://141.5.108.59:3000/uri/p05a9d6f8-3b96-11ea-bc94-0242ac1a0003'}, 'creator': 'Ministerium für Bildung, Wissenschaft, Weiterbildung und Kultur, Rheinland-Pfalz', 'title': 'Teilrahmenplan Deutsch', 'language': 'de'}\nMinisterium für Bildung, Wissenschaft, Weiterbildung und Kultur, Rheinland-Pfalz\n[{'nodes': [{'creator': 'Kultusministerkonferenz',\n             'identifier': '1e2537a8-3b92-11ea-800f-0242ac1a0003',\n             'language': 'de',\n             'nodes': [{'educationLevel': ['04'],\n                        'fullStatement': 'Die mündliche Sprache ist ein '\n                                         'zentrales Mittel aller schulischen '\n                                         'und außerschulischen Kommunikation. '\n                                         'Sprechen ist immer auch soziales '\n                                         'Handeln.\\r\\n'\n                                         '\\r\\n'\n                                         'Die Kinder entwickeln eine '\n                                         'demokratische Gesprächskultur und '\n                                         'erweitern ihre mündliche '\n                                         'Sprachhandlungskompetenz. Sie führen '\n                                         'Gespräche, erzählen, geben und '\n                                         'verarbeiten Informationen, gestalten '\n                                         'ihr Sprechen bewusst und leisten '\n                                         'mündliche Beiträge zum '\n                                         'Unterricht.\\r\\n'\n                                         '\\r\\n'\n                                         'Sie drücken ihre Gedanken und '\n                                         'Gefühle aus und formulieren ihre '\n                                         'Äußerungen im Hinblick auf Zuhörer '\n                                         'und Situation angemessen, hören '\n                                         'aufmerksam und genau zu, nehmen die '\n                                         'Äußerungen anderer auf und setzen '\n                                         'sich mit diesen konstruktiv '\n                                         'auseinander.',\n                        'identifier': '2d553cfe-3b93-11ea-9ddf-0242ac1a0003',\n                        'nodes': [{'educationLevel': ['04'],\n                                   'fullStatement': '* sich an Gesprächen '\n                                                    'beteiligen,\\r\\n'\n                                                    '*  gemeinsam entwickelte '\n                                                    'Gesprächsregeln beachten: '\n                                                    'z.B. andere zu Ende '\n                                                    'sprechen lassen, auf '\n                                                    'Gesprächsbeiträge anderer '\n                                                    'eingehen, beim Thema '\n                                                    'bleiben,\\r\\n'\n                                                    '* Anliegen und Konflikte '\n                                                    'gemeinsam mit anderen '\n                                                    'diskutieren und klären',\n                                   'identifier': '6cba87aa-3b93-11ea-97b6-0242ac1a0003',\n                                   'title': 'Gespräche führen'},\n                                  {'educationLevel': ['04'],\n                                   'fullStatement': '* an der gesprochenen '\n                                                    'Standardsprache '\n                                                    'orientiert und '\n                                                    'artikuliert sprechen,\\r\\n'\n                                                    '* Wirkungen der Redeweise '\n                                                    'kennen und beachten,\\r\\n'\n                                                    '* funktionsangemessen '\n                                                    'sprechen: erzählen, '\n                                                    'informieren, '\n                                                    'argumentieren, '\n                                                    'appellieren,\\r\\n'\n                                                    '* Sprechbeiträge und '\n                                                    'Gespräche '\n                                                    'situationsangemessen '\n                                                    'planen',\n                                   'identifier': '038cc8e6-3b94-11ea-9db2-0242ac1a0003',\n                                   'title': 'zu anderen sprechen'},\n                                  {'educationLevel': ['04'],\n                                   'fullStatement': '* Inhalte zuhörend '\n                                                    'verstehen,\\r\\n'\n                                                    '* gezielt nachfragen,\\r\\n'\n                                                    '* Verstehen und '\n                                                    'Nicht-Verstehen zum '\n                                                    'Ausdruck bringen.',\n                                   'identifier': '5f959e38-3b94-11ea-a209-0242ac1a0003',\n                                   'title': 'verstehend zuhören'},\n                                  {'educationLevel': ['04'],\n                                   'fullStatement': '* Perspektiven '\n                                                    'einnehmen,\\r\\n'\n                                                    '* sich in eine Rolle '\n                                                    'hineinversetzen und sie '\n                                                    'gestalten,\\r\\n'\n                                                    '* Situationen in '\n                                                    'verschiedenen Spielformen '\n                                                    'szenisch entfalten.',\n                                   'identifier': 'a81a6b98-3b94-11ea-b0b0-0242ac1a0003',\n                                   'title': 'szenisch spielen'},\n                                  {'educationLevel': ['04'],\n                                   'fullStatement': '* Beobachtungen '\n                                                    'wiedergeben,\\r\\n'\n                                                    '* Sachverhalte '\n                                                    'beschreiben,\\r\\n'\n                                                    '* Begründungen und '\n                                                    'Erklärungen geben,\\r\\n'\n                                                    '* Lernergebnisse '\n                                                    'präsentieren und dabei '\n                                                    'Fachbegriffe benutzen,\\r\\n'\n                                                    '* über Lernerfahrungen '\n                                                    'sprechen und andere in '\n                                                    'ihren Lernprozessen '\n                                                    'unterstützen.',\n                                   'identifier': 'ceeeaf4a-3b94-11ea-989e-0242ac1a0003',\n                                   'title': 'über Lernen sprechen'}],\n                        'title': 'Sprechen und Zuhören'},\n                       {'identifier': '173a2110-69c3-11ea-b850-0242ac1a0003',\n                        'nodes': [{'identifier': '24a40096-69c3-11ea-8722-0242ac1a0003',\n                                   'nodes': [{'identifier': '30a5a17e-69c3-11ea-ab63-0242ac1a0003',\n                                              'title': 'Test-Child-Child'}],\n                                   'title': 'Test-Child'}],\n                        'title': 'Test'}],\n             'title': 'Bildungsstandards im Fach Deutsch für den '\n                      'Primarbereich'}]},\n {'nodes': [{'creator': 'Ministerium für Bildung, Wissenschaft, Weiterbildung '\n                        'und Kultur, Rheinland-Pfalz',\n             'identifier': '05a9d6f8-3b96-11ea-bc94-0242ac1a0003',\n             'language': 'de',\n             'nodes': [{'educationLevel': ['04'],\n                        'fullStatement': 'Der Deutschunterricht entwickelt die '\n                                         'vorhandenen '\n                                         'Kommunikationsfähigkeiten der Kinder '\n                                         'sowohl situativ als auch  '\n                                         'systematisch weiter. Die Fähigkeit '\n                                         'zum Dialog, die Aufnahme und das '\n                                         'Verstehen von Gehörtem und seine '\n                                         'sinnhafte Wiedergabe, die '\n                                         'Erweiterung und Differenzierung des '\n                                         'Wortschatzes, eine verständliche '\n                                         'Artikulation, lebendiges Erzählen '\n                                         'und die Erarbeitung und Beachtung '\n                                         'von Gesprächsregeln sind im '\n                                         'Deutschunterricht zentral. '\n                                         'Kompetenzen im Sprechen und Zuhören '\n                                         'sind aber nicht isoliert ohne '\n                                         'Sachinhalte und sozialen Bezug '\n                                         'trainierbar, sondern müssen an '\n                                         'Inhalt und Bedeutung gekoppelt sein. '\n                                         'Insofern sind sie '\n                                         'fächerübergreifende Kompetenzen, die '\n                                         'in allen Lernbereichen Voraussetzung '\n                                         'für den Lernerfolg sind.',\n                        'identifier': '88756154-3b98-11ea-8d52-0242ac1a0003',\n                        'nodes': [{'educationLevel': ['04'],\n                                   'fullStatement': '* an der Standardsprache '\n                                                    'orientiert und '\n                                                    'artikuliert sprechen\\r\\n'\n                                                    '* Sprechabsicht beachten: '\n                                                    'erzählen, informieren, '\n                                                    'argumentieren, '\n                                                    'appellieren, fragen, '\n                                                    'loben\\r\\n'\n                                                    '* das eigene Sprechen '\n                                                    'anlassgerecht planen\\r\\n'\n                                                    '* (z.B. wie beschwere ich '\n                                                    'mich, wie bitte ich um '\n                                                    'etwas, wie entschuldige '\n                                                    'ich mich...)',\n                                   'identifier': 'b7b01676-3b98-11ea-8a03-0242ac1a0003',\n                                   'title': 'zu anderen sprechen'},\n                                  {'educationLevel': ['04'],\n                                   'fullStatement': '* sich an Gesprächen '\n                                                    'beteiligen\\r\\n'\n                                                    '* Gesprächsregeln '\n                                                    'beachten\\r\\n'\n                                                    '* (z.B. zu Ende sprechen '\n                                                    'lassen, auf andere '\n                                                    'eingehen, beim Thema '\n                                                    'bleiben, fair '\n                                                    'bleiben...)\\r\\n'\n                                                    '* Konflikte und Anliegen '\n                                                    'gemeinsam diskutieren und '\n                                                    'klären\\r\\n'\n                                                    '* gemeinsame Vorhaben '\n                                                    'planen',\n                                   'identifier': 'e19009ce-3b98-11ea-93ae-0242ac1a0003',\n                                   'title': 'Gespräche führen'},\n                                  {'educationLevel': ['04'],\n                                   'fullStatement': '* Inhalte zuhörend '\n                                                    'verstehen\\r\\n'\n                                                    '* aktiv und aufmerksam '\n                                                    'zuhören\\r\\n'\n                                                    '* gezielt nachfragen\\r\\n'\n                                                    '* Verstehen und '\n                                                    'Nicht-Verstehen zum '\n                                                    'Ausdruck bringen (verbal '\n                                                    'oder gestischmimisch)\\r\\n'\n                                                    '* Empathie entwickeln und '\n                                                    'zeigen',\n                                   'identifier': '0097fe4e-3b99-11ea-a532-0242ac1a0003',\n                                   'title': 'verstehend zuhören'},\n                                  {'educationLevel': ['04'],\n                                   'fullStatement': '* Perspektiven '\n                                                    'einnehmen\\r\\n'\n                                                    '* sich in eine Rolle '\n                                                    'hineinversetzen und sie '\n                                                    'gestalten\\r\\n'\n                                                    '* verschiedene '\n                                                    'Spielformen szenisch '\n                                                    'ausgestalten\\r\\n'\n                                                    '* das Sprechen mimisch '\n                                                    'und gestisch unterstützen',\n                                   'identifier': '20be95d4-3b99-11ea-8c00-0242ac1a0003',\n                                   'title': 'mit verteilten Rollen '\n                                            'sprechen/spielen'},\n                                  {'educationLevel': ['04'],\n                                   'fullStatement': '* Sachverhalte und '\n                                                    'Beobachtungen '\n                                                    'beschreiben\\r\\n'\n                                                    '* begründen und '\n                                                    'erklären\\r\\n'\n                                                    '* Lernergebnisse '\n                                                    'präsentieren\\r\\n'\n                                                    '* Fachbegriffe '\n                                                    'benutzen\\r\\n'\n                                                    '* anderen beim Lernen '\n                                                    'helfen',\n                                   'identifier': '4105d50a-3b99-11ea-8479-0242ac1a0003',\n                                   'title': 'über Lernerfahrungen sprechen'}],\n                        'title': 'Sprechen und Zuhören'}],\n             'title': 'Teilrahmenplan Deutsch'}]}]\n"
    }
   ],
   "source": [
    "competence_frameworks = []\n",
    "\n",
    "for item in list_of_documents:\n",
    "\n",
    "    r = requests.get(base_url + '/CFPackages/' + item)\n",
    "\n",
    "    competence_framework = []\n",
    "    for item in r.json()['CFAssociations']:\n",
    "        if item['associationType'] == 'isChildOf':\n",
    "            competence_framework.append(\n",
    "                (item['destinationNodeURI']['identifier'],(item['originNodeURI']['identifier']))\n",
    "                )\n",
    "\n",
    "    parents, children = zip(*competence_framework)\n",
    "    root_nodes = {x for x in parents if x not in children}\n",
    "    for node in root_nodes:\n",
    "        print(node)\n",
    "        r = requests.get('http://141.5.108.59:3000/ims/case/v1p0/CFDocuments/' + node)\n",
    "        print(r.json())\n",
    "        str_title = r.json()['creator']\n",
    "        print(str_title)\n",
    "        competence_framework.append(('Root', node))\n",
    "        competence_framework.append(('Title', r.json()['creator']))\n",
    "\n",
    "    def get_nodes(node):\n",
    "        d = {}\n",
    "        try:\n",
    "            if node == \"Root\":\n",
    "                d['identifier'] = r.json()['creator']\n",
    "            else:\n",
    "                d['identifier'] = node\n",
    "            r = requests.get('http://141.5.108.59:3000/ims/case/v1p0/CFItems/' + d['identifier'])\n",
    "\n",
    "            if r.status_code == 404:\n",
    "                # this might be a package URI\n",
    "                r = requests.get('http://141.5.108.59:3000/ims/case/v1p0/CFDocuments/' + d['identifier'])\n",
    "                d['title'] = r.json()['title']\n",
    "                d['creator'] = r.json()['creator']\n",
    "                d['language'] = r.json()['language']\n",
    "            else:\n",
    "                # this is a Item\n",
    "                d['title'] = r.json()['humanCodingScheme']\n",
    "                d['educationLevel'] = r.json()['educationLevel']\n",
    "                d['fullStatement'] = r.json()['fullStatement']\n",
    "\n",
    "        except:\n",
    "            pass\n",
    "        children = get_children(node)\n",
    "        if children:\n",
    "            d['nodes'] = [get_nodes(child) for child in children]\n",
    "        return d\n",
    "\n",
    "    def get_children(node):\n",
    "        return [x[1] for x in competence_framework if x[0] == node]\n",
    "\n",
    "    tree = get_nodes('Root')\n",
    "    competence_frameworks.append(tree)\n",
    "\n",
    "pprint.pprint(competence_frameworks)"
   ]
  },
  {
   "cell_type": "markdown",
   "metadata": {},
   "source": [
    "## Add relation informations to items"
   ]
  },
  {
   "cell_type": "code",
   "execution_count": 17,
   "metadata": {},
   "outputs": [
    {
     "output_type": "stream",
     "name": "stdout",
     "text": "[]\n[{'associationType': 'isRelatedTo',\n  'destinationNodeURI': {'identifier': '2d553cfe-3b93-11ea-9ddf-0242ac1a0003',\n                         'title': 'Destination node',\n                         'uri': 'http://141.5.108.59:3000/uri/2d553cfe-3b93-11ea-9ddf-0242ac1a0003'},\n  'originNodeURI': {'identifier': '88756154-3b98-11ea-8d52-0242ac1a0003',\n                    'title': 'Sprechen und Zuhören',\n                    'uri': 'http://141.5.108.59:3000/uri/88756154-3b98-11ea-8d52-0242ac1a0003'}},\n {'associationType': 'exactMatchOf',\n  'destinationNodeURI': {'identifier': '6cba87aa-3b93-11ea-97b6-0242ac1a0003',\n                         'title': 'Destination node',\n                         'uri': 'http://141.5.108.59:3000/uri/6cba87aa-3b93-11ea-97b6-0242ac1a0003'},\n  'originNodeURI': {'identifier': 'e19009ce-3b98-11ea-93ae-0242ac1a0003',\n                    'title': 'Gespräche führen',\n                    'uri': 'http://141.5.108.59:3000/uri/e19009ce-3b98-11ea-93ae-0242ac1a0003'}},\n {'associationType': 'exactMatchOf',\n  'destinationNodeURI': {'identifier': '038cc8e6-3b94-11ea-9db2-0242ac1a0003',\n                         'title': 'Destination node',\n                         'uri': 'http://141.5.108.59:3000/uri/038cc8e6-3b94-11ea-9db2-0242ac1a0003'},\n  'originNodeURI': {'identifier': 'b7b01676-3b98-11ea-8a03-0242ac1a0003',\n                    'title': 'zu anderen sprechen',\n                    'uri': 'http://141.5.108.59:3000/uri/b7b01676-3b98-11ea-8a03-0242ac1a0003'}},\n {'associationType': 'exactMatchOf',\n  'destinationNodeURI': {'identifier': '5f959e38-3b94-11ea-a209-0242ac1a0003',\n                         'title': 'Destination node',\n                         'uri': 'http://141.5.108.59:3000/uri/5f959e38-3b94-11ea-a209-0242ac1a0003'},\n  'originNodeURI': {'identifier': '0097fe4e-3b99-11ea-a532-0242ac1a0003',\n                    'title': 'verstehend zuhören',\n                    'uri': 'http://141.5.108.59:3000/uri/0097fe4e-3b99-11ea-a532-0242ac1a0003'}},\n {'associationType': 'exactMatchOf',\n  'destinationNodeURI': {'identifier': 'a81a6b98-3b94-11ea-b0b0-0242ac1a0003',\n                         'title': 'Destination node',\n                         'uri': 'http://141.5.108.59:3000/uri/a81a6b98-3b94-11ea-b0b0-0242ac1a0003'},\n  'originNodeURI': {'identifier': '20be95d4-3b99-11ea-8c00-0242ac1a0003',\n                    'title': 'mit verteilten Rollen sprechen/spielen',\n                    'uri': 'http://141.5.108.59:3000/uri/20be95d4-3b99-11ea-8c00-0242ac1a0003'}},\n {'associationType': 'exactMatchOf',\n  'destinationNodeURI': {'identifier': 'ceeeaf4a-3b94-11ea-989e-0242ac1a0003',\n                         'title': 'Destination node',\n                         'uri': 'http://141.5.108.59:3000/uri/ceeeaf4a-3b94-11ea-989e-0242ac1a0003'},\n  'originNodeURI': {'identifier': '4105d50a-3b99-11ea-8479-0242ac1a0003',\n                    'title': 'über Lernerfahrungen sprechen',\n                    'uri': 'http://141.5.108.59:3000/uri/4105d50a-3b99-11ea-8479-0242ac1a0003'}}]\n"
    }
   ],
   "source": [
    "for item in list_of_documents:\n",
    "\n",
    "    r = requests.get(base_url + '/CFPackages/' + item)\n",
    "\n",
    "    associations = []\n",
    "    for item in r.json()['CFAssociations']:\n",
    "        # for now I don't want child associations\n",
    "        if item['associationType'] != 'isChildOf':\n",
    "            association = {\n",
    "                'associationType': item['associationType'],\n",
    "                'originNodeURI': item['originNodeURI'],\n",
    "                'destinationNodeURI': item['destinationNodeURI']\n",
    "            }\n",
    "            associations.append(association)\n",
    "    pprint.pprint(associations)"
   ]
  },
  {
   "cell_type": "code",
   "execution_count": 18,
   "metadata": {},
   "outputs": [
    {
     "output_type": "stream",
     "name": "stdout",
     "text": "1e2537a8-3b92-11ea-800f-0242ac1a0003\n{'uri': 'http://141.5.108.59:3000/uri/1e2537a8-3b92-11ea-800f-0242ac1a0003', 'identifier': '1e2537a8-3b92-11ea-800f-0242ac1a0003', 'lastChangeDateTime': '2020-01-20T14:35:34+00:00', 'CFPackageURI': {'title': 'Bildungsstandards im Fach Deutsch für den Primarbereich', 'identifier': '1e2537a8-3b92-11ea-800f-0242ac1a0003', 'uri': 'http://141.5.108.59:3000/uri/p1e2537a8-3b92-11ea-800f-0242ac1a0003'}, 'creator': 'Kultusministerkonferenz', 'title': 'Bildungsstandards im Fach Deutsch für den Primarbereich', 'language': 'de'}\nKultusministerkonferenz\n05a9d6f8-3b96-11ea-bc94-0242ac1a0003\n{'uri': 'http://141.5.108.59:3000/uri/05a9d6f8-3b96-11ea-bc94-0242ac1a0003', 'identifier': '05a9d6f8-3b96-11ea-bc94-0242ac1a0003', 'lastChangeDateTime': '2020-01-20T15:19:09+00:00', 'CFPackageURI': {'title': 'Teilrahmenplan Deutsch', 'identifier': '05a9d6f8-3b96-11ea-bc94-0242ac1a0003', 'uri': 'http://141.5.108.59:3000/uri/p05a9d6f8-3b96-11ea-bc94-0242ac1a0003'}, 'creator': 'Ministerium für Bildung, Wissenschaft, Weiterbildung und Kultur, Rheinland-Pfalz', 'title': 'Teilrahmenplan Deutsch', 'language': 'de'}\nMinisterium für Bildung, Wissenschaft, Weiterbildung und Kultur, Rheinland-Pfalz\n[{'nodes': [{'creator': 'Kultusministerkonferenz',\n             'identifier': '1e2537a8-3b92-11ea-800f-0242ac1a0003',\n             'language': 'de',\n             'nodes': [{'educationLevel': ['04'],\n                        'fullStatement': 'Die mündliche Sprache ist ein '\n                                         'zentrales Mittel aller schulischen '\n                                         'und außerschulischen Kommunikation. '\n                                         'Sprechen ist immer auch soziales '\n                                         'Handeln.\\r\\n'\n                                         '\\r\\n'\n                                         'Die Kinder entwickeln eine '\n                                         'demokratische Gesprächskultur und '\n                                         'erweitern ihre mündliche '\n                                         'Sprachhandlungskompetenz. Sie führen '\n                                         'Gespräche, erzählen, geben und '\n                                         'verarbeiten Informationen, gestalten '\n                                         'ihr Sprechen bewusst und leisten '\n                                         'mündliche Beiträge zum '\n                                         'Unterricht.\\r\\n'\n                                         '\\r\\n'\n                                         'Sie drücken ihre Gedanken und '\n                                         'Gefühle aus und formulieren ihre '\n                                         'Äußerungen im Hinblick auf Zuhörer '\n                                         'und Situation angemessen, hören '\n                                         'aufmerksam und genau zu, nehmen die '\n                                         'Äußerungen anderer auf und setzen '\n                                         'sich mit diesen konstruktiv '\n                                         'auseinander.',\n                        'identifier': '2d553cfe-3b93-11ea-9ddf-0242ac1a0003',\n                        'nodes': [{'educationLevel': ['04'],\n                                   'fullStatement': '* sich an Gesprächen '\n                                                    'beteiligen,\\r\\n'\n                                                    '*  gemeinsam entwickelte '\n                                                    'Gesprächsregeln beachten: '\n                                                    'z.B. andere zu Ende '\n                                                    'sprechen lassen, auf '\n                                                    'Gesprächsbeiträge anderer '\n                                                    'eingehen, beim Thema '\n                                                    'bleiben,\\r\\n'\n                                                    '* Anliegen und Konflikte '\n                                                    'gemeinsam mit anderen '\n                                                    'diskutieren und klären',\n                                   'identifier': '6cba87aa-3b93-11ea-97b6-0242ac1a0003',\n                                   'title': 'Gespräche führen'},\n                                  {'educationLevel': ['04'],\n                                   'fullStatement': '* an der gesprochenen '\n                                                    'Standardsprache '\n                                                    'orientiert und '\n                                                    'artikuliert sprechen,\\r\\n'\n                                                    '* Wirkungen der Redeweise '\n                                                    'kennen und beachten,\\r\\n'\n                                                    '* funktionsangemessen '\n                                                    'sprechen: erzählen, '\n                                                    'informieren, '\n                                                    'argumentieren, '\n                                                    'appellieren,\\r\\n'\n                                                    '* Sprechbeiträge und '\n                                                    'Gespräche '\n                                                    'situationsangemessen '\n                                                    'planen',\n                                   'identifier': '038cc8e6-3b94-11ea-9db2-0242ac1a0003',\n                                   'title': 'zu anderen sprechen'},\n                                  {'educationLevel': ['04'],\n                                   'fullStatement': '* Inhalte zuhörend '\n                                                    'verstehen,\\r\\n'\n                                                    '* gezielt nachfragen,\\r\\n'\n                                                    '* Verstehen und '\n                                                    'Nicht-Verstehen zum '\n                                                    'Ausdruck bringen.',\n                                   'identifier': '5f959e38-3b94-11ea-a209-0242ac1a0003',\n                                   'title': 'verstehend zuhören'},\n                                  {'educationLevel': ['04'],\n                                   'fullStatement': '* Perspektiven '\n                                                    'einnehmen,\\r\\n'\n                                                    '* sich in eine Rolle '\n                                                    'hineinversetzen und sie '\n                                                    'gestalten,\\r\\n'\n                                                    '* Situationen in '\n                                                    'verschiedenen Spielformen '\n                                                    'szenisch entfalten.',\n                                   'identifier': 'a81a6b98-3b94-11ea-b0b0-0242ac1a0003',\n                                   'title': 'szenisch spielen'},\n                                  {'educationLevel': ['04'],\n                                   'fullStatement': '* Beobachtungen '\n                                                    'wiedergeben,\\r\\n'\n                                                    '* Sachverhalte '\n                                                    'beschreiben,\\r\\n'\n                                                    '* Begründungen und '\n                                                    'Erklärungen geben,\\r\\n'\n                                                    '* Lernergebnisse '\n                                                    'präsentieren und dabei '\n                                                    'Fachbegriffe benutzen,\\r\\n'\n                                                    '* über Lernerfahrungen '\n                                                    'sprechen und andere in '\n                                                    'ihren Lernprozessen '\n                                                    'unterstützen.',\n                                   'identifier': 'ceeeaf4a-3b94-11ea-989e-0242ac1a0003',\n                                   'title': 'über Lernen sprechen'}],\n                        'title': 'Sprechen und Zuhören'},\n                       {'identifier': '173a2110-69c3-11ea-b850-0242ac1a0003',\n                        'nodes': [{'identifier': '24a40096-69c3-11ea-8722-0242ac1a0003',\n                                   'nodes': [{'identifier': '30a5a17e-69c3-11ea-ab63-0242ac1a0003',\n                                              'title': 'Test-Child-Child'}],\n                                   'title': 'Test-Child'}],\n                        'title': 'Test'}],\n             'title': 'Bildungsstandards im Fach Deutsch für den '\n                      'Primarbereich'}]},\n {'nodes': [{'creator': 'Ministerium für Bildung, Wissenschaft, Weiterbildung '\n                        'und Kultur, Rheinland-Pfalz',\n             'identifier': '05a9d6f8-3b96-11ea-bc94-0242ac1a0003',\n             'language': 'de',\n             'nodes': [{'associationType': 'isRelatedTo',\n                        'destinationNodeURI': {'identifier': '2d553cfe-3b93-11ea-9ddf-0242ac1a0003',\n                                               'title': 'Destination node',\n                                               'uri': 'http://141.5.108.59:3000/uri/2d553cfe-3b93-11ea-9ddf-0242ac1a0003'},\n                        'educationLevel': ['04'],\n                        'fullStatement': 'Der Deutschunterricht entwickelt die '\n                                         'vorhandenen '\n                                         'Kommunikationsfähigkeiten der Kinder '\n                                         'sowohl situativ als auch  '\n                                         'systematisch weiter. Die Fähigkeit '\n                                         'zum Dialog, die Aufnahme und das '\n                                         'Verstehen von Gehörtem und seine '\n                                         'sinnhafte Wiedergabe, die '\n                                         'Erweiterung und Differenzierung des '\n                                         'Wortschatzes, eine verständliche '\n                                         'Artikulation, lebendiges Erzählen '\n                                         'und die Erarbeitung und Beachtung '\n                                         'von Gesprächsregeln sind im '\n                                         'Deutschunterricht zentral. '\n                                         'Kompetenzen im Sprechen und Zuhören '\n                                         'sind aber nicht isoliert ohne '\n                                         'Sachinhalte und sozialen Bezug '\n                                         'trainierbar, sondern müssen an '\n                                         'Inhalt und Bedeutung gekoppelt sein. '\n                                         'Insofern sind sie '\n                                         'fächerübergreifende Kompetenzen, die '\n                                         'in allen Lernbereichen Voraussetzung '\n                                         'für den Lernerfolg sind.',\n                        'identifier': '88756154-3b98-11ea-8d52-0242ac1a0003',\n                        'nodes': [{'associationType': 'exactMatchOf',\n                                   'destinationNodeURI': {'identifier': '038cc8e6-3b94-11ea-9db2-0242ac1a0003',\n                                                          'title': 'Destination '\n                                                                   'node',\n                                                          'uri': 'http://141.5.108.59:3000/uri/038cc8e6-3b94-11ea-9db2-0242ac1a0003'},\n                                   'educationLevel': ['04'],\n                                   'fullStatement': '* an der Standardsprache '\n                                                    'orientiert und '\n                                                    'artikuliert sprechen\\r\\n'\n                                                    '* Sprechabsicht beachten: '\n                                                    'erzählen, informieren, '\n                                                    'argumentieren, '\n                                                    'appellieren, fragen, '\n                                                    'loben\\r\\n'\n                                                    '* das eigene Sprechen '\n                                                    'anlassgerecht planen\\r\\n'\n                                                    '* (z.B. wie beschwere ich '\n                                                    'mich, wie bitte ich um '\n                                                    'etwas, wie entschuldige '\n                                                    'ich mich...)',\n                                   'identifier': 'b7b01676-3b98-11ea-8a03-0242ac1a0003',\n                                   'title': 'zu anderen sprechen'},\n                                  {'associationType': 'exactMatchOf',\n                                   'destinationNodeURI': {'identifier': '6cba87aa-3b93-11ea-97b6-0242ac1a0003',\n                                                          'title': 'Destination '\n                                                                   'node',\n                                                          'uri': 'http://141.5.108.59:3000/uri/6cba87aa-3b93-11ea-97b6-0242ac1a0003'},\n                                   'educationLevel': ['04'],\n                                   'fullStatement': '* sich an Gesprächen '\n                                                    'beteiligen\\r\\n'\n                                                    '* Gesprächsregeln '\n                                                    'beachten\\r\\n'\n                                                    '* (z.B. zu Ende sprechen '\n                                                    'lassen, auf andere '\n                                                    'eingehen, beim Thema '\n                                                    'bleiben, fair '\n                                                    'bleiben...)\\r\\n'\n                                                    '* Konflikte und Anliegen '\n                                                    'gemeinsam diskutieren und '\n                                                    'klären\\r\\n'\n                                                    '* gemeinsame Vorhaben '\n                                                    'planen',\n                                   'identifier': 'e19009ce-3b98-11ea-93ae-0242ac1a0003',\n                                   'title': 'Gespräche führen'},\n                                  {'associationType': 'exactMatchOf',\n                                   'destinationNodeURI': {'identifier': '5f959e38-3b94-11ea-a209-0242ac1a0003',\n                                                          'title': 'Destination '\n                                                                   'node',\n                                                          'uri': 'http://141.5.108.59:3000/uri/5f959e38-3b94-11ea-a209-0242ac1a0003'},\n                                   'educationLevel': ['04'],\n                                   'fullStatement': '* Inhalte zuhörend '\n                                                    'verstehen\\r\\n'\n                                                    '* aktiv und aufmerksam '\n                                                    'zuhören\\r\\n'\n                                                    '* gezielt nachfragen\\r\\n'\n                                                    '* Verstehen und '\n                                                    'Nicht-Verstehen zum '\n                                                    'Ausdruck bringen (verbal '\n                                                    'oder gestischmimisch)\\r\\n'\n                                                    '* Empathie entwickeln und '\n                                                    'zeigen',\n                                   'identifier': '0097fe4e-3b99-11ea-a532-0242ac1a0003',\n                                   'title': 'verstehend zuhören'},\n                                  {'associationType': 'exactMatchOf',\n                                   'destinationNodeURI': {'identifier': 'a81a6b98-3b94-11ea-b0b0-0242ac1a0003',\n                                                          'title': 'Destination '\n                                                                   'node',\n                                                          'uri': 'http://141.5.108.59:3000/uri/a81a6b98-3b94-11ea-b0b0-0242ac1a0003'},\n                                   'educationLevel': ['04'],\n                                   'fullStatement': '* Perspektiven '\n                                                    'einnehmen\\r\\n'\n                                                    '* sich in eine Rolle '\n                                                    'hineinversetzen und sie '\n                                                    'gestalten\\r\\n'\n                                                    '* verschiedene '\n                                                    'Spielformen szenisch '\n                                                    'ausgestalten\\r\\n'\n                                                    '* das Sprechen mimisch '\n                                                    'und gestisch unterstützen',\n                                   'identifier': '20be95d4-3b99-11ea-8c00-0242ac1a0003',\n                                   'title': 'mit verteilten Rollen '\n                                            'sprechen/spielen'},\n                                  {'associationType': 'exactMatchOf',\n                                   'destinationNodeURI': {'identifier': 'ceeeaf4a-3b94-11ea-989e-0242ac1a0003',\n                                                          'title': 'Destination '\n                                                                   'node',\n                                                          'uri': 'http://141.5.108.59:3000/uri/ceeeaf4a-3b94-11ea-989e-0242ac1a0003'},\n                                   'educationLevel': ['04'],\n                                   'fullStatement': '* Sachverhalte und '\n                                                    'Beobachtungen '\n                                                    'beschreiben\\r\\n'\n                                                    '* begründen und '\n                                                    'erklären\\r\\n'\n                                                    '* Lernergebnisse '\n                                                    'präsentieren\\r\\n'\n                                                    '* Fachbegriffe '\n                                                    'benutzen\\r\\n'\n                                                    '* anderen beim Lernen '\n                                                    'helfen',\n                                   'identifier': '4105d50a-3b99-11ea-8479-0242ac1a0003',\n                                   'title': 'über Lernerfahrungen sprechen'}],\n                        'title': 'Sprechen und Zuhören'}],\n             'title': 'Teilrahmenplan Deutsch'}]}]\n"
    }
   ],
   "source": [
    "competence_frameworks = []\n",
    "\n",
    "for item in list_of_documents:\n",
    "\n",
    "    r = requests.get(base_url + '/CFPackages/' + item)\n",
    "\n",
    "    competence_framework = []\n",
    "    associations = []\n",
    "    for item in r.json()['CFAssociations']:\n",
    "        if item['associationType'] == 'isChildOf':\n",
    "            competence_framework.append(\n",
    "                (item['destinationNodeURI']['identifier'],(item['originNodeURI']['identifier']))\n",
    "                )\n",
    "        else:\n",
    "            association = {\n",
    "                'associationType': item['associationType'],\n",
    "                'originNodeURI': item['originNodeURI'],\n",
    "                'destinationNodeURI': item['destinationNodeURI']\n",
    "            }\n",
    "            associations.append(association)\n",
    "\n",
    "    parents, children = zip(*competence_framework)\n",
    "    root_nodes = {x for x in parents if x not in children}\n",
    "    for node in root_nodes:\n",
    "        print(node)\n",
    "        r = requests.get('http://141.5.108.59:3000/ims/case/v1p0/CFDocuments/' + node)\n",
    "        print(r.json())\n",
    "        str_title = r.json()['creator']\n",
    "        print(str_title)\n",
    "        competence_framework.append(('Root', node))\n",
    "        competence_framework.append(('Title', r.json()['creator']))\n",
    "\n",
    "    def get_nodes(node):\n",
    "        d = {}\n",
    "        try:\n",
    "            if node == \"Root\":\n",
    "                d['identifier'] = r.json()['creator']\n",
    "            else:\n",
    "                d['identifier'] = node\n",
    "            r = requests.get('http://141.5.108.59:3000/ims/case/v1p0/CFItems/' + d['identifier'])\n",
    "\n",
    "            if r.status_code == 404:\n",
    "                # this might be a package URI\n",
    "                r = requests.get('http://141.5.108.59:3000/ims/case/v1p0/CFDocuments/' + d['identifier'])\n",
    "                d['title'] = r.json()['title']\n",
    "                d['creator'] = r.json()['creator']\n",
    "                d['language'] = r.json()['language']\n",
    "            else:\n",
    "                # this is a Item\n",
    "                d['title'] = r.json()['humanCodingScheme']\n",
    "                d['educationLevel'] = r.json()['educationLevel']\n",
    "                d['fullStatement'] = r.json()['fullStatement']\n",
    "            for item in associations:\n",
    "                if item['originNodeURI']['identifier'] == d['identifier']:\n",
    "                    d['associationType'] = item['associationType']\n",
    "                    d['destinationNodeURI'] = item['destinationNodeURI']\n",
    "        except:\n",
    "            pass\n",
    "        children = get_children(node)\n",
    "        if children:\n",
    "            d['nodes'] = [get_nodes(child) for child in children]\n",
    "        return d\n",
    "\n",
    "    def get_children(node):\n",
    "        return [x[1] for x in competence_framework if x[0] == node]\n",
    "\n",
    "    tree = get_nodes('Root')\n",
    "    competence_frameworks.append(tree)\n",
    "\n",
    "pprint.pprint(competence_frameworks)"
   ]
  },
  {
   "cell_type": "code",
   "execution_count": null,
   "metadata": {},
   "outputs": [],
   "source": []
  }
 ],
 "metadata": {
  "kernelspec": {
   "display_name": "rdf",
   "language": "python",
   "name": "rdf"
  },
  "language_info": {
   "codemirror_mode": {
    "name": "ipython",
    "version": 3
   },
   "file_extension": ".py",
   "mimetype": "text/x-python",
   "name": "python",
   "nbconvert_exporter": "python",
   "pygments_lexer": "ipython3",
   "version": "3.7.6-final"
  }
 },
 "nbformat": 4,
 "nbformat_minor": 4
}